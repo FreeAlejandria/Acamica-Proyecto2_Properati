{
  "nbformat": 4,
  "nbformat_minor": 0,
  "metadata": {
    "colab": {
      "name": "Untitled0.ipynb",
      "provenance": [],
      "collapsed_sections": [],
      "authorship_tag": "ABX9TyNiCb3YeZ8rQ6x9Ba2S1v3V",
      "include_colab_link": true
    },
    "kernelspec": {
      "name": "python3",
      "display_name": "Python 3"
    },
    "language_info": {
      "name": "python"
    }
  },
  "cells": [
    {
      "cell_type": "markdown",
      "metadata": {
        "id": "view-in-github",
        "colab_type": "text"
      },
      "source": [
        "<a href=\"https://colab.research.google.com/github/cunimachine/Acamica-Proyecto2_Properati/blob/main/Demographic%20Data%20Analyser.ipynb\" target=\"_parent\"><img src=\"https://colab.research.google.com/assets/colab-badge.svg\" alt=\"Open In Colab\"/></a>"
      ]
    },
    {
      "cell_type": "code",
      "metadata": {
        "id": "Rwtrr60dOOiV"
      },
      "source": [
        "import pandas as pd\n",
        "import numpy as np\n",
        "\n"
      ],
      "execution_count": 1,
      "outputs": []
    },
    {
      "cell_type": "code",
      "metadata": {
        "colab": {
          "base_uri": "https://localhost:8080/"
        },
        "id": "H5YnVSbZOiZ9",
        "outputId": "1a0adb6c-002b-4714-c7b7-db5dc7e00bf5"
      },
      "source": [
        "from google.colab import drive\n",
        "drive.mount (\"/content/drive\")"
      ],
      "execution_count": 2,
      "outputs": [
        {
          "output_type": "stream",
          "text": [
            "Mounted at /content/drive\n"
          ],
          "name": "stdout"
        }
      ]
    },
    {
      "cell_type": "markdown",
      "metadata": {
        "id": "5qyzDxRxRxg6"
      },
      "source": [
        "# Nueva sección"
      ]
    },
    {
      "cell_type": "code",
      "metadata": {
        "id": "jKrJMRDPPC3x"
      },
      "source": [
        "df=pd.read_csv(\"/content/drive/MyDrive/Colab Notebooks/adult_data.csv\")"
      ],
      "execution_count": 3,
      "outputs": []
    },
    {
      "cell_type": "code",
      "metadata": {
        "colab": {
          "base_uri": "https://localhost:8080/",
          "height": 285
        },
        "id": "0aElTrIHT3EZ",
        "outputId": "bc78ebf1-a69a-4679-fe80-0ddcdeba53bb"
      },
      "source": [
        "df.head()"
      ],
      "execution_count": 4,
      "outputs": [
        {
          "output_type": "execute_result",
          "data": {
            "text/html": [
              "<div>\n",
              "<style scoped>\n",
              "    .dataframe tbody tr th:only-of-type {\n",
              "        vertical-align: middle;\n",
              "    }\n",
              "\n",
              "    .dataframe tbody tr th {\n",
              "        vertical-align: top;\n",
              "    }\n",
              "\n",
              "    .dataframe thead th {\n",
              "        text-align: right;\n",
              "    }\n",
              "</style>\n",
              "<table border=\"1\" class=\"dataframe\">\n",
              "  <thead>\n",
              "    <tr style=\"text-align: right;\">\n",
              "      <th></th>\n",
              "      <th>age</th>\n",
              "      <th>workclass</th>\n",
              "      <th>fnlwgt</th>\n",
              "      <th>education</th>\n",
              "      <th>education-num</th>\n",
              "      <th>marital-status</th>\n",
              "      <th>occupation</th>\n",
              "      <th>relationship</th>\n",
              "      <th>race</th>\n",
              "      <th>sex</th>\n",
              "      <th>capital-gain</th>\n",
              "      <th>capital-loss</th>\n",
              "      <th>hours-per-week</th>\n",
              "      <th>native-country</th>\n",
              "      <th>salary</th>\n",
              "    </tr>\n",
              "  </thead>\n",
              "  <tbody>\n",
              "    <tr>\n",
              "      <th>0</th>\n",
              "      <td>39</td>\n",
              "      <td>State-gov</td>\n",
              "      <td>77516</td>\n",
              "      <td>Bachelors</td>\n",
              "      <td>13</td>\n",
              "      <td>Never-married</td>\n",
              "      <td>Adm-clerical</td>\n",
              "      <td>Not-in-family</td>\n",
              "      <td>White</td>\n",
              "      <td>Male</td>\n",
              "      <td>2174</td>\n",
              "      <td>0</td>\n",
              "      <td>40</td>\n",
              "      <td>United-States</td>\n",
              "      <td>&lt;=50K</td>\n",
              "    </tr>\n",
              "    <tr>\n",
              "      <th>1</th>\n",
              "      <td>50</td>\n",
              "      <td>Self-emp-not-inc</td>\n",
              "      <td>83311</td>\n",
              "      <td>Bachelors</td>\n",
              "      <td>13</td>\n",
              "      <td>Married-civ-spouse</td>\n",
              "      <td>Exec-managerial</td>\n",
              "      <td>Husband</td>\n",
              "      <td>White</td>\n",
              "      <td>Male</td>\n",
              "      <td>0</td>\n",
              "      <td>0</td>\n",
              "      <td>13</td>\n",
              "      <td>United-States</td>\n",
              "      <td>&lt;=50K</td>\n",
              "    </tr>\n",
              "    <tr>\n",
              "      <th>2</th>\n",
              "      <td>38</td>\n",
              "      <td>Private</td>\n",
              "      <td>215646</td>\n",
              "      <td>HS-grad</td>\n",
              "      <td>9</td>\n",
              "      <td>Divorced</td>\n",
              "      <td>Handlers-cleaners</td>\n",
              "      <td>Not-in-family</td>\n",
              "      <td>White</td>\n",
              "      <td>Male</td>\n",
              "      <td>0</td>\n",
              "      <td>0</td>\n",
              "      <td>40</td>\n",
              "      <td>United-States</td>\n",
              "      <td>&lt;=50K</td>\n",
              "    </tr>\n",
              "    <tr>\n",
              "      <th>3</th>\n",
              "      <td>53</td>\n",
              "      <td>Private</td>\n",
              "      <td>234721</td>\n",
              "      <td>11th</td>\n",
              "      <td>7</td>\n",
              "      <td>Married-civ-spouse</td>\n",
              "      <td>Handlers-cleaners</td>\n",
              "      <td>Husband</td>\n",
              "      <td>Black</td>\n",
              "      <td>Male</td>\n",
              "      <td>0</td>\n",
              "      <td>0</td>\n",
              "      <td>40</td>\n",
              "      <td>United-States</td>\n",
              "      <td>&lt;=50K</td>\n",
              "    </tr>\n",
              "    <tr>\n",
              "      <th>4</th>\n",
              "      <td>28</td>\n",
              "      <td>Private</td>\n",
              "      <td>338409</td>\n",
              "      <td>Bachelors</td>\n",
              "      <td>13</td>\n",
              "      <td>Married-civ-spouse</td>\n",
              "      <td>Prof-specialty</td>\n",
              "      <td>Wife</td>\n",
              "      <td>Black</td>\n",
              "      <td>Female</td>\n",
              "      <td>0</td>\n",
              "      <td>0</td>\n",
              "      <td>40</td>\n",
              "      <td>Cuba</td>\n",
              "      <td>&lt;=50K</td>\n",
              "    </tr>\n",
              "  </tbody>\n",
              "</table>\n",
              "</div>"
            ],
            "text/plain": [
              "   age         workclass  fnlwgt  ... hours-per-week  native-country salary\n",
              "0   39         State-gov   77516  ...             40   United-States  <=50K\n",
              "1   50  Self-emp-not-inc   83311  ...             13   United-States  <=50K\n",
              "2   38           Private  215646  ...             40   United-States  <=50K\n",
              "3   53           Private  234721  ...             40   United-States  <=50K\n",
              "4   28           Private  338409  ...             40            Cuba  <=50K\n",
              "\n",
              "[5 rows x 15 columns]"
            ]
          },
          "metadata": {
            "tags": []
          },
          "execution_count": 4
        }
      ]
    },
    {
      "cell_type": "code",
      "metadata": {
        "colab": {
          "base_uri": "https://localhost:8080/"
        },
        "id": "R0CJnYKTyZat",
        "outputId": "6e59fa76-1ccb-4096-82c2-795464d07c79"
      },
      "source": [
        "df.info()"
      ],
      "execution_count": 5,
      "outputs": [
        {
          "output_type": "stream",
          "text": [
            "<class 'pandas.core.frame.DataFrame'>\n",
            "RangeIndex: 32561 entries, 0 to 32560\n",
            "Data columns (total 15 columns):\n",
            " #   Column          Non-Null Count  Dtype \n",
            "---  ------          --------------  ----- \n",
            " 0   age             32561 non-null  int64 \n",
            " 1   workclass       32561 non-null  object\n",
            " 2   fnlwgt          32561 non-null  int64 \n",
            " 3   education       32561 non-null  object\n",
            " 4   education-num   32561 non-null  int64 \n",
            " 5   marital-status  32561 non-null  object\n",
            " 6   occupation      32561 non-null  object\n",
            " 7   relationship    32561 non-null  object\n",
            " 8   race            32561 non-null  object\n",
            " 9   sex             32561 non-null  object\n",
            " 10  capital-gain    32561 non-null  int64 \n",
            " 11  capital-loss    32561 non-null  int64 \n",
            " 12  hours-per-week  32561 non-null  int64 \n",
            " 13  native-country  32561 non-null  object\n",
            " 14  salary          32561 non-null  object\n",
            "dtypes: int64(6), object(9)\n",
            "memory usage: 3.7+ MB\n"
          ],
          "name": "stdout"
        }
      ]
    },
    {
      "cell_type": "code",
      "metadata": {
        "colab": {
          "base_uri": "https://localhost:8080/",
          "height": 291
        },
        "id": "p5xY74AcyZXW",
        "outputId": "95efea42-ea20-4909-ba29-7814abaa90a8"
      },
      "source": [
        "df.describe()"
      ],
      "execution_count": 6,
      "outputs": [
        {
          "output_type": "execute_result",
          "data": {
            "text/html": [
              "<div>\n",
              "<style scoped>\n",
              "    .dataframe tbody tr th:only-of-type {\n",
              "        vertical-align: middle;\n",
              "    }\n",
              "\n",
              "    .dataframe tbody tr th {\n",
              "        vertical-align: top;\n",
              "    }\n",
              "\n",
              "    .dataframe thead th {\n",
              "        text-align: right;\n",
              "    }\n",
              "</style>\n",
              "<table border=\"1\" class=\"dataframe\">\n",
              "  <thead>\n",
              "    <tr style=\"text-align: right;\">\n",
              "      <th></th>\n",
              "      <th>age</th>\n",
              "      <th>fnlwgt</th>\n",
              "      <th>education-num</th>\n",
              "      <th>capital-gain</th>\n",
              "      <th>capital-loss</th>\n",
              "      <th>hours-per-week</th>\n",
              "    </tr>\n",
              "  </thead>\n",
              "  <tbody>\n",
              "    <tr>\n",
              "      <th>count</th>\n",
              "      <td>32561.000000</td>\n",
              "      <td>3.256100e+04</td>\n",
              "      <td>32561.000000</td>\n",
              "      <td>32561.000000</td>\n",
              "      <td>32561.000000</td>\n",
              "      <td>32561.000000</td>\n",
              "    </tr>\n",
              "    <tr>\n",
              "      <th>mean</th>\n",
              "      <td>38.581647</td>\n",
              "      <td>1.897784e+05</td>\n",
              "      <td>10.080679</td>\n",
              "      <td>1077.648844</td>\n",
              "      <td>87.303830</td>\n",
              "      <td>40.437456</td>\n",
              "    </tr>\n",
              "    <tr>\n",
              "      <th>std</th>\n",
              "      <td>13.640433</td>\n",
              "      <td>1.055500e+05</td>\n",
              "      <td>2.572720</td>\n",
              "      <td>7385.292085</td>\n",
              "      <td>402.960219</td>\n",
              "      <td>12.347429</td>\n",
              "    </tr>\n",
              "    <tr>\n",
              "      <th>min</th>\n",
              "      <td>17.000000</td>\n",
              "      <td>1.228500e+04</td>\n",
              "      <td>1.000000</td>\n",
              "      <td>0.000000</td>\n",
              "      <td>0.000000</td>\n",
              "      <td>1.000000</td>\n",
              "    </tr>\n",
              "    <tr>\n",
              "      <th>25%</th>\n",
              "      <td>28.000000</td>\n",
              "      <td>1.178270e+05</td>\n",
              "      <td>9.000000</td>\n",
              "      <td>0.000000</td>\n",
              "      <td>0.000000</td>\n",
              "      <td>40.000000</td>\n",
              "    </tr>\n",
              "    <tr>\n",
              "      <th>50%</th>\n",
              "      <td>37.000000</td>\n",
              "      <td>1.783560e+05</td>\n",
              "      <td>10.000000</td>\n",
              "      <td>0.000000</td>\n",
              "      <td>0.000000</td>\n",
              "      <td>40.000000</td>\n",
              "    </tr>\n",
              "    <tr>\n",
              "      <th>75%</th>\n",
              "      <td>48.000000</td>\n",
              "      <td>2.370510e+05</td>\n",
              "      <td>12.000000</td>\n",
              "      <td>0.000000</td>\n",
              "      <td>0.000000</td>\n",
              "      <td>45.000000</td>\n",
              "    </tr>\n",
              "    <tr>\n",
              "      <th>max</th>\n",
              "      <td>90.000000</td>\n",
              "      <td>1.484705e+06</td>\n",
              "      <td>16.000000</td>\n",
              "      <td>99999.000000</td>\n",
              "      <td>4356.000000</td>\n",
              "      <td>99.000000</td>\n",
              "    </tr>\n",
              "  </tbody>\n",
              "</table>\n",
              "</div>"
            ],
            "text/plain": [
              "                age        fnlwgt  ...  capital-loss  hours-per-week\n",
              "count  32561.000000  3.256100e+04  ...  32561.000000    32561.000000\n",
              "mean      38.581647  1.897784e+05  ...     87.303830       40.437456\n",
              "std       13.640433  1.055500e+05  ...    402.960219       12.347429\n",
              "min       17.000000  1.228500e+04  ...      0.000000        1.000000\n",
              "25%       28.000000  1.178270e+05  ...      0.000000       40.000000\n",
              "50%       37.000000  1.783560e+05  ...      0.000000       40.000000\n",
              "75%       48.000000  2.370510e+05  ...      0.000000       45.000000\n",
              "max       90.000000  1.484705e+06  ...   4356.000000       99.000000\n",
              "\n",
              "[8 rows x 6 columns]"
            ]
          },
          "metadata": {
            "tags": []
          },
          "execution_count": 6
        }
      ]
    },
    {
      "cell_type": "markdown",
      "metadata": {
        "id": "INao7FXaw-X_"
      },
      "source": [
        "- How many of each race are represented in this dataset? This should be a Pandas series with race names as the index labels."
      ]
    },
    {
      "cell_type": "code",
      "metadata": {
        "colab": {
          "base_uri": "https://localhost:8080/"
        },
        "id": "0DH0bEcAyZT6",
        "outputId": "97ecedcf-6db9-406c-ddcb-57dd74df1e9b"
      },
      "source": [
        "df.value_counts([\"race\"])"
      ],
      "execution_count": 7,
      "outputs": [
        {
          "output_type": "execute_result",
          "data": {
            "text/plain": [
              "race              \n",
              "White                 27816\n",
              "Black                  3124\n",
              "Asian-Pac-Islander     1039\n",
              "Amer-Indian-Eskimo      311\n",
              "Other                   271\n",
              "dtype: int64"
            ]
          },
          "metadata": {
            "tags": []
          },
          "execution_count": 7
        }
      ]
    },
    {
      "cell_type": "markdown",
      "metadata": {
        "id": "CHUYfbtiyZP_"
      },
      "source": [
        "- What is the average age of men?"
      ]
    },
    {
      "cell_type": "code",
      "metadata": {
        "colab": {
          "base_uri": "https://localhost:8080/"
        },
        "id": "W_mkn7e1yZMc",
        "outputId": "3becfdb6-4946-41b5-9a81-d666f454b77a"
      },
      "source": [
        "average_age_men=df.loc[df['sex'] == \"Male\",[\"age\"]].mean().round(1)\n",
        "average_age_men=np.array(average_age_men)\n",
        "average_age_men\n"
      ],
      "execution_count": 8,
      "outputs": [
        {
          "output_type": "execute_result",
          "data": {
            "text/plain": [
              "array([39.4])"
            ]
          },
          "metadata": {
            "tags": []
          },
          "execution_count": 8
        }
      ]
    },
    {
      "cell_type": "markdown",
      "metadata": {
        "id": "-7s1YEDGIU_B"
      },
      "source": [
        "- What is the percentage of people who have a Bachelor's degree?"
      ]
    },
    {
      "cell_type": "code",
      "metadata": {
        "colab": {
          "base_uri": "https://localhost:8080/"
        },
        "id": "EwDknACpITbI",
        "outputId": "209bc91f-0148-4826-8412-111fa6141032"
      },
      "source": [
        "percentage_bachelors_a=df.loc[df['education'] == \"Bachelors\",[\"education\"]].value_counts()\n",
        "percentage_bachelors_b=df.education.value_counts().sum()\n",
        "percentage_bachelors=(percentage_bachelors_a*100/percentage_bachelors_b).round(1)\n",
        "percentage_bachelors=np.array(percentage_bachelors)\n",
        "percentage_bachelors"
      ],
      "execution_count": 9,
      "outputs": [
        {
          "output_type": "execute_result",
          "data": {
            "text/plain": [
              "array([16.4])"
            ]
          },
          "metadata": {
            "tags": []
          },
          "execution_count": 9
        }
      ]
    },
    {
      "cell_type": "markdown",
      "metadata": {
        "id": "2hyQqQcrsmIK"
      },
      "source": [
        "- What percentage of people with advanced education (`Bachelors`, `Masters`, or `Doctorate`) make more than 50K?"
      ]
    },
    {
      "cell_type": "markdown",
      "metadata": {
        "id": "e9PkC3Wws-Cv"
      },
      "source": [
        "- What percentage of people without advanced education make more than 50K?"
      ]
    },
    {
      "cell_type": "code",
      "metadata": {
        "colab": {
          "base_uri": "https://localhost:8080/"
        },
        "id": "2_XDArlUX9ve",
        "outputId": "de88934e-4fcf-4398-ed47-c2bce369a102"
      },
      "source": [
        "df[\"salary\"].unique()"
      ],
      "execution_count": 10,
      "outputs": [
        {
          "output_type": "execute_result",
          "data": {
            "text/plain": [
              "array(['<=50K', '>50K'], dtype=object)"
            ]
          },
          "metadata": {
            "tags": []
          },
          "execution_count": 10
        }
      ]
    },
    {
      "cell_type": "code",
      "metadata": {
        "colab": {
          "base_uri": "https://localhost:8080/"
        },
        "id": "7OzKHgD2YJjI",
        "outputId": "d21f1f18-352e-47b8-ae67-9ff39c98008a"
      },
      "source": [
        "df[\"education\"].unique()"
      ],
      "execution_count": 11,
      "outputs": [
        {
          "output_type": "execute_result",
          "data": {
            "text/plain": [
              "array(['Bachelors', 'HS-grad', '11th', 'Masters', '9th', 'Some-college',\n",
              "       'Assoc-acdm', 'Assoc-voc', '7th-8th', 'Doctorate', 'Prof-school',\n",
              "       '5th-6th', '10th', '1st-4th', 'Preschool', '12th'], dtype=object)"
            ]
          },
          "metadata": {
            "tags": []
          },
          "execution_count": 11
        }
      ]
    },
    {
      "cell_type": "code",
      "metadata": {
        "id": "zrjNtdFeT8q3",
        "colab": {
          "base_uri": "https://localhost:8080/"
        },
        "outputId": "f050c093-146e-444b-82ca-c7d69047721a"
      },
      "source": [
        "total_higher_education=df.loc[(df['education'] == \"Bachelors\")|\n",
        "                              (df['education'] == \"Masters\")|\n",
        "                              (df['education'] == \"Doctorate\"), [\"education\",\"salary\"]].value_counts().sum()\n",
        "\n",
        "total_higher_education"
      ],
      "execution_count": 12,
      "outputs": [
        {
          "output_type": "execute_result",
          "data": {
            "text/plain": [
              "7491"
            ]
          },
          "metadata": {
            "tags": []
          },
          "execution_count": 12
        }
      ]
    },
    {
      "cell_type": "code",
      "metadata": {
        "colab": {
          "base_uri": "https://localhost:8080/"
        },
        "id": "lQrkPQ1rxXDU",
        "outputId": "981ae91d-b051-47b4-c259-c4065b40c8bc"
      },
      "source": [
        "total_higher_education_mayor50k=df.loc[((df['education'] == \"Bachelors\")|\n",
        "                                        (df['education'] == \"Masters\")|\n",
        "                                       (df['education'] == \"Doctorate\"))&\n",
        "                                       (df[\"salary\"]==\">50K\"), [\"education\",\"salary\"]].value_counts().sum()\n",
        "\n",
        "total_higher_education_mayor50k\n"
      ],
      "execution_count": 13,
      "outputs": [
        {
          "output_type": "execute_result",
          "data": {
            "text/plain": [
              "3486"
            ]
          },
          "metadata": {
            "tags": []
          },
          "execution_count": 13
        }
      ]
    },
    {
      "cell_type": "code",
      "metadata": {
        "colab": {
          "base_uri": "https://localhost:8080/"
        },
        "id": "CtrhwawOskv9",
        "outputId": "7133d196-9387-41b8-c2d5-184c6ead3f61"
      },
      "source": [
        "total_lower_education=df.loc[(df['education'] == \"HS-grad\")|\n",
        "                                       (df['education'] == \"11th\")|\n",
        "                                       (df['education'] == \"9th\")|\n",
        "                                       (df['education'] == \"Some-college\")|\n",
        "                                       (df['education'] == \"Assoc-acdm\")|\n",
        "                                       (df['education'] == \"Assoc-voc\")|\n",
        "                                       (df['education'] == \"7th-8th\")|\n",
        "                                        (df['education'] == \"Prof-school\")|\n",
        "                                        (df['education'] == \"5th-6th\")|\n",
        "                                        (df['education'] == \"10th\")|\n",
        "                                       (df['education'] == \"1st-4th\")|\n",
        "                                       (df['education'] == \"Preschool\")|\n",
        "                                       (df['education'] == \"12th\"),[\"education\",\"salary\"]].value_counts().sum()\n",
        "\n",
        "total_lower_education\n",
        "                                       "
      ],
      "execution_count": 14,
      "outputs": [
        {
          "output_type": "execute_result",
          "data": {
            "text/plain": [
              "25070"
            ]
          },
          "metadata": {
            "tags": []
          },
          "execution_count": 14
        }
      ]
    },
    {
      "cell_type": "code",
      "metadata": {
        "colab": {
          "base_uri": "https://localhost:8080/"
        },
        "id": "C13foiuvuT5S",
        "outputId": "ce72753d-ee26-46a6-8a6a-5a76e26e2f45"
      },
      "source": [
        "total_lower_education_mayor50k=df.loc[((df['education'] == \"HS-grad\")|\n",
        "                                       (df['education'] == \"11th\")|\n",
        "                                       (df['education'] == \"9th\")|\n",
        "                                       (df['education'] == \"Some-college\")|\n",
        "                                       (df['education'] == \"Assoc-acdm\")|\n",
        "                                       (df['education'] == \"Assoc-voc\")|\n",
        "                                       (df['education'] == \"7th-8th\")|\n",
        "                                        (df['education'] == \"Prof-school\")|\n",
        "                                        (df['education'] == \"5th-6th\")|\n",
        "                                        (df['education'] == \"10th\")|\n",
        "                                       (df['education'] == \"1st-4th\")|\n",
        "                                       (df['education'] == \"Preschool\")|\n",
        "                                       (df['education'] == \"12th\"))&(df[\"salary\"]==\">50K\"),[\"education\",\"salary\"]].value_counts().sum()\n",
        "\n",
        "total_lower_education_mayor50k\n",
        "                                       "
      ],
      "execution_count": 15,
      "outputs": [
        {
          "output_type": "execute_result",
          "data": {
            "text/plain": [
              "4355"
            ]
          },
          "metadata": {
            "tags": []
          },
          "execution_count": 15
        }
      ]
    },
    {
      "cell_type": "code",
      "metadata": {
        "colab": {
          "base_uri": "https://localhost:8080/"
        },
        "id": "4eGHejeRo70H",
        "outputId": "617424a5-1f63-448d-e48c-7eacdc935132"
      },
      "source": [
        "porcentage_higher_education_mayor50K=(total_higher_education_mayor50k*100/total_higher_education).round(1)\n",
        "porcentage_higher_education_mayor50K"
      ],
      "execution_count": 16,
      "outputs": [
        {
          "output_type": "execute_result",
          "data": {
            "text/plain": [
              "46.5"
            ]
          },
          "metadata": {
            "tags": []
          },
          "execution_count": 16
        }
      ]
    },
    {
      "cell_type": "code",
      "metadata": {
        "colab": {
          "base_uri": "https://localhost:8080/"
        },
        "id": "tOkL_NvDtTve",
        "outputId": "444dd113-59e6-40e2-801e-d830cf0f919a"
      },
      "source": [
        "porcentage_lower_education_mayor50K=(total_lower_education_mayor50k*100/total_lower_education).round(1)\n",
        "porcentage_lower_education_mayor50K"
      ],
      "execution_count": 17,
      "outputs": [
        {
          "output_type": "execute_result",
          "data": {
            "text/plain": [
              "17.4"
            ]
          },
          "metadata": {
            "tags": []
          },
          "execution_count": 17
        }
      ]
    },
    {
      "cell_type": "markdown",
      "metadata": {
        "id": "cIIiQxhAtbc2"
      },
      "source": [
        "- What is the minimum number of hours a person works per week (hours-per-week feature)?"
      ]
    },
    {
      "cell_type": "code",
      "metadata": {
        "colab": {
          "base_uri": "https://localhost:8080/"
        },
        "id": "rXuQPhdSth_9",
        "outputId": "66b17fde-5daf-4281-ec00-c75491fcad36"
      },
      "source": [
        "min_work_hours=df[\"hours-per-week\"].min()\n",
        "min_work_hours"
      ],
      "execution_count": 18,
      "outputs": [
        {
          "output_type": "execute_result",
          "data": {
            "text/plain": [
              "1"
            ]
          },
          "metadata": {
            "tags": []
          },
          "execution_count": 18
        }
      ]
    },
    {
      "cell_type": "markdown",
      "metadata": {
        "id": "JK1OUw6QtiqL"
      },
      "source": [
        "- What percentage of the people who work the minimum number of hours per week have a salary of >50K?"
      ]
    },
    {
      "cell_type": "code",
      "metadata": {
        "colab": {
          "base_uri": "https://localhost:8080/"
        },
        "id": "6BHyE-lBtn9K",
        "outputId": "a479fb42-e4a5-4bd3-d4eb-073fe0f44843"
      },
      "source": [
        "num_min_workers=df.loc[(df[\"hours-per-week\"]==1) & (df[\"salary\"]==\">50K\"),[\"education\",\"salary\"]].value_counts().sum()\n",
        "num_min_workers"
      ],
      "execution_count": 19,
      "outputs": [
        {
          "output_type": "execute_result",
          "data": {
            "text/plain": [
              "2"
            ]
          },
          "metadata": {
            "tags": []
          },
          "execution_count": 19
        }
      ]
    },
    {
      "cell_type": "code",
      "metadata": {
        "colab": {
          "base_uri": "https://localhost:8080/"
        },
        "id": "689b3riptn5w",
        "outputId": "f28f58d2-cf1a-498d-a52a-732220777450"
      },
      "source": [
        "total_num_min_workers=df.loc[(df[\"hours-per-week\"]==1),[\"education\",\"salary\"]].value_counts().sum()\n",
        "total_num_min_workers"
      ],
      "execution_count": 20,
      "outputs": [
        {
          "output_type": "execute_result",
          "data": {
            "text/plain": [
              "20"
            ]
          },
          "metadata": {
            "tags": []
          },
          "execution_count": 20
        }
      ]
    },
    {
      "cell_type": "code",
      "metadata": {
        "colab": {
          "base_uri": "https://localhost:8080/"
        },
        "id": "Rd_npt9P8tdx",
        "outputId": "974e6ab9-01ef-4049-ef8a-5245822dbf23"
      },
      "source": [
        "porcentage_num_min_workers=(num_min_workers*100/total_num_min_workers).round(1)\n",
        "porcentage_num_min_workers"
      ],
      "execution_count": 21,
      "outputs": [
        {
          "output_type": "execute_result",
          "data": {
            "text/plain": [
              "10.0"
            ]
          },
          "metadata": {
            "tags": []
          },
          "execution_count": 21
        }
      ]
    },
    {
      "cell_type": "markdown",
      "metadata": {
        "id": "FGoAr4-rtvo1"
      },
      "source": [
        "- Identify the most popular occupation for those who earn >50K in India."
      ]
    },
    {
      "cell_type": "code",
      "metadata": {
        "colab": {
          "base_uri": "https://localhost:8080/",
          "height": 35
        },
        "id": "qcV1dq7Xt3ND",
        "outputId": "245ea92c-434a-41ac-b0f6-b4125a8cdaba"
      },
      "source": [
        "top_IN_occupation_india=df.loc[((df[\"salary\"]==\">50K\")&(df[\"native-country\"]==\"India\")),\"occupation\"].value_counts().index[0]\n",
        "top_IN_occupation_india"
      ],
      "execution_count": 22,
      "outputs": [
        {
          "output_type": "execute_result",
          "data": {
            "application/vnd.google.colaboratory.intrinsic+json": {
              "type": "string"
            },
            "text/plain": [
              "'Prof-specialty'"
            ]
          },
          "metadata": {
            "tags": []
          },
          "execution_count": 22
        }
      ]
    },
    {
      "cell_type": "markdown",
      "metadata": {
        "id": "ARa20ukqAlNr"
      },
      "source": [
        " - What country has the highest percentage of people that earn >50K?"
      ]
    },
    {
      "cell_type": "code",
      "metadata": {
        "colab": {
          "base_uri": "https://localhost:8080/"
        },
        "id": "1MCRjB3ENjI7",
        "outputId": "bde68904-ed8e-4db1-9aa0-dce9c2956b4d"
      },
      "source": [
        "new_df = df.loc[(df[\"salary\"] == \">50K\")][\"native-country\"].value_counts()\n",
        "new_df\n"
      ],
      "execution_count": 23,
      "outputs": [
        {
          "output_type": "execute_result",
          "data": {
            "text/plain": [
              "United-States         7171\n",
              "?                      146\n",
              "Philippines             61\n",
              "Germany                 44\n",
              "India                   40\n",
              "Canada                  39\n",
              "Mexico                  33\n",
              "England                 30\n",
              "Italy                   25\n",
              "Cuba                    25\n",
              "Japan                   24\n",
              "China                   20\n",
              "Taiwan                  20\n",
              "Iran                    18\n",
              "South                   16\n",
              "Puerto-Rico             12\n",
              "Poland                  12\n",
              "France                  12\n",
              "Jamaica                 10\n",
              "El-Salvador              9\n",
              "Greece                   8\n",
              "Cambodia                 7\n",
              "Yugoslavia               6\n",
              "Hong                     6\n",
              "Vietnam                  5\n",
              "Ireland                  5\n",
              "Ecuador                  4\n",
              "Haiti                    4\n",
              "Portugal                 4\n",
              "Thailand                 3\n",
              "Scotland                 3\n",
              "Guatemala                3\n",
              "Hungary                  3\n",
              "Columbia                 2\n",
              "Peru                     2\n",
              "Dominican-Republic       2\n",
              "Nicaragua                2\n",
              "Trinadad&Tobago          2\n",
              "Laos                     2\n",
              "Honduras                 1\n",
              "Name: native-country, dtype: int64"
            ]
          },
          "metadata": {
            "tags": []
          },
          "execution_count": 23
        }
      ]
    },
    {
      "cell_type": "code",
      "metadata": {
        "colab": {
          "base_uri": "https://localhost:8080/"
        },
        "id": "zfkZx0DdNjFA",
        "outputId": "8edf29d9-1fd9-42be-9501-e8c2ff215f1e"
      },
      "source": [
        "new_df2 = df[\"native-country\"].value_counts()\n",
        "new_df2"
      ],
      "execution_count": 24,
      "outputs": [
        {
          "output_type": "execute_result",
          "data": {
            "text/plain": [
              "United-States                 29170\n",
              "Mexico                          643\n",
              "?                               583\n",
              "Philippines                     198\n",
              "Germany                         137\n",
              "Canada                          121\n",
              "Puerto-Rico                     114\n",
              "El-Salvador                     106\n",
              "India                           100\n",
              "Cuba                             95\n",
              "England                          90\n",
              "Jamaica                          81\n",
              "South                            80\n",
              "China                            75\n",
              "Italy                            73\n",
              "Dominican-Republic               70\n",
              "Vietnam                          67\n",
              "Guatemala                        64\n",
              "Japan                            62\n",
              "Poland                           60\n",
              "Columbia                         59\n",
              "Taiwan                           51\n",
              "Haiti                            44\n",
              "Iran                             43\n",
              "Portugal                         37\n",
              "Nicaragua                        34\n",
              "Peru                             31\n",
              "France                           29\n",
              "Greece                           29\n",
              "Ecuador                          28\n",
              "Ireland                          24\n",
              "Hong                             20\n",
              "Trinadad&Tobago                  19\n",
              "Cambodia                         19\n",
              "Laos                             18\n",
              "Thailand                         18\n",
              "Yugoslavia                       16\n",
              "Outlying-US(Guam-USVI-etc)       14\n",
              "Honduras                         13\n",
              "Hungary                          13\n",
              "Scotland                         12\n",
              "Holand-Netherlands                1\n",
              "Name: native-country, dtype: int64"
            ]
          },
          "metadata": {
            "tags": []
          },
          "execution_count": 24
        }
      ]
    },
    {
      "cell_type": "code",
      "metadata": {
        "colab": {
          "base_uri": "https://localhost:8080/"
        },
        "id": "B408goyMt3I9",
        "outputId": "009c8c46-ce06-4127-e4fb-1da4792f0579"
      },
      "source": [
        "    new_df = df.loc[(df[\"salary\"] == \">50K\")][\"native-country\"].value_counts()\n",
        "    new_df2 = df[\"native-country\"].value_counts()\n",
        "\n",
        "    richest = (new_df / new_df2).max()\n",
        "\n",
        "    highest_earning_country = (new_df/new_df2).sort_values(ascending = False).index[0]\n",
        "\n",
        "    print(highest_earning_country)"
      ],
      "execution_count": 25,
      "outputs": [
        {
          "output_type": "stream",
          "text": [
            "Iran\n"
          ],
          "name": "stdout"
        }
      ]
    },
    {
      "cell_type": "code",
      "metadata": {
        "colab": {
          "base_uri": "https://localhost:8080/"
        },
        "id": "yPtBA7YjNPNG",
        "outputId": "adb83549-9d0b-4de5-f426-55607f6af3a8"
      },
      "source": [
        "highest_earning_country = (new_df/new_df2).sort_values(ascending = False).index[0]\n",
        "highest_earning_country_percentage = round(100 * richest, 1 )\n",
        "highest_earning_country_percentage"
      ],
      "execution_count": 26,
      "outputs": [
        {
          "output_type": "execute_result",
          "data": {
            "text/plain": [
              "41.9"
            ]
          },
          "metadata": {
            "tags": []
          },
          "execution_count": 26
        }
      ]
    },
    {
      "cell_type": "code",
      "metadata": {
        "id": "eD2Z_xhsBkNw"
      },
      "source": [
        ""
      ],
      "execution_count": null,
      "outputs": []
    }
  ]
}